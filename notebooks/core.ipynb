{
 "metadata": {
  "language_info": {
   "codemirror_mode": {
    "name": "ipython",
    "version": 3
   },
   "file_extension": ".py",
   "mimetype": "text/x-python",
   "name": "python",
   "nbconvert_exporter": "python",
   "pygments_lexer": "ipython3",
   "version": "3.9.5"
  },
  "orig_nbformat": 4,
  "kernelspec": {
   "name": "python3",
   "display_name": "Python 3.9.5 64-bit ('qdocss2': virtualenvwrapper)"
  },
  "interpreter": {
   "hash": "f9a87c430129695a3516a2907b88edb50a3a118bb04d5108f4dbf79a6127e3bb"
  }
 },
 "nbformat": 4,
 "nbformat_minor": 2,
 "cells": [
  {
   "cell_type": "code",
   "execution_count": 1,
   "metadata": {},
   "outputs": [],
   "source": [
    "from qutip import *\n",
    "from numpy import pi\n",
    "from scipy.special import jv"
   ]
  },
  {
   "cell_type": "code",
   "execution_count": 3,
   "metadata": {},
   "outputs": [
    {
     "output_type": "stream",
     "name": "stdout",
     "text": [
      "78.53981633974483\n"
     ]
    }
   ],
   "source": [
    "\n",
    "si = qeye(2)\n",
    "\n",
    "sx = sigmax()\n",
    "\n",
    "sy = sigmay()\n",
    "\n",
    "sz = sigmaz()\n",
    "\n",
    "n = 2\n",
    "\n",
    "m = 1\n",
    "\n",
    "extmagfield_m = 1\n",
    "\n",
    "extmagfield_n = 1 #Qobj([[0, 0, 0], [0, 0, 0], [0.3, 0.3, 0.3]])\n",
    "\n",
    "JJ = 1 #Qobj([[0, 0, 0], [0, 0, 0], [0, 0, 0]])\n",
    "\n",
    "AA = 1 #Qobj([[0, 0, 0], [0, 0, 0], [0.99925, 0.625147, 0.551273]])\n",
    "# gama = Qobj(\n",
    "#     [\n",
    "#         [0.0124425, 0.0806628, 0.00999575],\n",
    "#         [0.0550028, 0.0758354, 0.07346340],\n",
    "#         [0.0972069, 0.0723954, 0.07405450],\n",
    "#     ]\n",
    "# )\n",
    "gama = 1\n",
    "t = (10 * 2 * pi) / extmagfield_m\n",
    "E1 = (\n",
    "    1 / 2 * JJ\n",
    "    + 1 / 2 * gama\n",
    "    + 1 / 2 * AA\n",
    "    + 1 / 2 * extmagfield_n\n",
    "    + 1 / 2 * extmagfield_m\n",
    ")\n",
    "tau = E1 * t / 2\n",
    "print(tau)\n",
    "kappa = 2 #3 / 2 * tau"
   ]
  },
  {
   "cell_type": "code",
   "execution_count": 4,
   "metadata": {},
   "outputs": [],
   "source": [
    "def spin_op(N):\n",
    "    \"\"\"calculates spin oprators\n",
    "\n",
    "    Args:\n",
    "        N (int): number of electrons or atoms\n",
    "\n",
    "    Returns:\n",
    "        matrix: matrices of spin oprators\n",
    "    \"\"\"\n",
    "    Sx = []\n",
    "    Sy = []\n",
    "    Sz = []\n",
    "\n",
    "    for n in range(N):\n",
    "        x_list = []\n",
    "        y_list = []\n",
    "        z_list = []\n",
    "\n",
    "        for m in range(N):\n",
    "            x_list.append(si)\n",
    "            y_list.append(si)\n",
    "            z_list.append(si)\n",
    "\n",
    "        x_list[n] = sx\n",
    "        y_list[n] = sy\n",
    "        z_list[n] = sz\n",
    "\n",
    "        Sx.append(tensor(x_list))\n",
    "        Sy.append(tensor(y_list))\n",
    "        Sz.append(tensor(z_list))\n",
    "\n",
    "    return [Sx, Sy, Sz]"
   ]
  },
  {
   "cell_type": "code",
   "execution_count": 6,
   "metadata": {},
   "outputs": [],
   "source": [
    "def hamiltonian(m, n, JJ, AA, gama, extmagfield_m, extmagfield_n):\n",
    "    \"\"\"calculates spin oprators and\n",
    "       using them, calculates system hamiltonian\n",
    "\n",
    "    Args:\n",
    "        m (int): number of electrons\n",
    "        n (int): number of nuclei\n",
    "        JJ (matrix): exchange interaction constant\n",
    "        AA (matrix): exchange interaction constant\n",
    "        gama (matrix): exchange interaction constant\n",
    "        extmagfield_m (int): external magnetic field of m\n",
    "        extmagfield_n (matrix): external magnetic field of n\n",
    "\n",
    "    Returns:\n",
    "        matrix: hamiltonian of the entire system\n",
    "    \"\"\"\n",
    "    # calculating spin operators\n",
    "    Sx, Sy, Sz = spin_op(m+n)\n",
    "    # HS & HB are bare hamiltonians of the central system and bath\n",
    "    # V is the system-bath interaction\n",
    "    HS = HB = V = 0\n",
    "    for i in range(m,m+n):\n",
    "        HS += extmagfield_m * Sx[i] + extmagfield_m * Sy[i] + extmagfield_m * Sz[i]\n",
    "        for j in range(m,m+n):\n",
    "            if m != 1:\n",
    "                if i == j:\n",
    "                    continue\n",
    "            HS += JJ * Sx[i] * Sx[j] + JJ * Sy[i] * Sy[j] + JJ * Sz[i] * Sz[j]\n",
    "\n",
    "    for i in range(m):\n",
    "        HB += extmagfield_n * Sx[i] + extmagfield_n * Sy[i] + extmagfield_n * Sz[i]\n",
    "        for j in range(m):\n",
    "            if n != 1:\n",
    "                if i == j:\n",
    "                    continue\n",
    "            HB += gama * Sx[i] * Sx[j] + gama * Sy[i] * Sy[j] + gama * Sz[i] * Sz[j]\n",
    "\n",
    "    for i in range(m,m+n):\n",
    "        for j in range(m):\n",
    "            V += AA * Sx[i] * Sx[j] + AA * Sy[i] * Sy[j] + AA * Sz[i] * Sz[j]\n",
    "\n",
    "    HH = HS + HB + V\n",
    "    return HH"
   ]
  },
  {
   "cell_type": "code",
   "execution_count": 7,
   "metadata": {},
   "outputs": [],
   "source": [
    "def TG(k, G):\n",
    "    \"\"\"recursive function to calculate T\n",
    "\n",
    "    Args:\n",
    "        k (int): number of times to calculate\n",
    "        G (matrix): oprator G\n",
    "\n",
    "    Returns:\n",
    "        matrix: matrix of T in a speccific k\n",
    "    \"\"\"\n",
    "    if k == 1:\n",
    "        return 1\n",
    "    elif k == 2:\n",
    "        return G\n",
    "    else:\n",
    "        return 2 * G * TG(k - 1, G) - TG(k - 2, G)"
   ]
  },
  {
   "cell_type": "code",
   "execution_count": 8,
   "metadata": {},
   "outputs": [],
   "source": [
    "def Ut(kappa, tau, G):\n",
    "    \"\"\"calculating the evolution oprator\n",
    "\n",
    "    Args:\n",
    "        kappa ([type]): [description]\n",
    "        tau ([type]): [description]\n",
    "        G ([type]): [description]\n",
    "\n",
    "    Returns:\n",
    "        [type]: [description]\n",
    "    \"\"\"\n",
    "    UU = 0\n",
    "    for k in range(1, int(kappa) + 1):\n",
    "        a = 1\n",
    "        if k == 1:\n",
    "            a = 2\n",
    "        UU += a * ((1j) ** k) * jv(k, tau) * TG(k, G)\n",
    "    return UU\n"
   ]
  },
  {
   "cell_type": "code",
   "execution_count": 9,
   "metadata": {},
   "outputs": [],
   "source": [
    "def main(m, n, JJ, AA, gama, extmagfield_m, extmagfield_n, kappa, tau):\n",
    "    HH = hamiltonian(m, n, JJ, AA, gama, extmagfield_m, extmagfield_n)\n",
    "    G = 2 * HH / E1\n",
    "    UU = Ut(kappa, tau, G)\n",
    "    return(Qobj(UU))"
   ]
  },
  {
   "cell_type": "code",
   "execution_count": 10,
   "metadata": {},
   "outputs": [
    {
     "output_type": "execute_result",
     "data": {
      "text/plain": [
       "Quantum object: dims = [[2, 2, 2], [2, 2, 2]], shape = (8, 8), type = oper, isherm = False\n",
       "Qobj data =\n",
       "[[-0.67780305+0.12671847j -0.0521387 +0.0521387j  -0.0521387 +0.0521387j\n",
       "   0.        +0.j         -0.0521387 +0.0521387j   0.        +0.j\n",
       "   0.        +0.j          0.        +0.j        ]\n",
       " [-0.0521387 -0.0521387j  -0.26069348+0.12671847j -0.20855478+0.j\n",
       "  -0.0521387 +0.0521387j  -0.10427739+0.j         -0.0521387 +0.0521387j\n",
       "   0.        +0.j          0.        +0.j        ]\n",
       " [-0.0521387 -0.0521387j  -0.20855478+0.j         -0.26069348+0.12671847j\n",
       "  -0.0521387 +0.0521387j  -0.10427739+0.j          0.        +0.j\n",
       "  -0.0521387 +0.0521387j   0.        +0.j        ]\n",
       " [ 0.        +0.j         -0.0521387 -0.0521387j  -0.0521387 -0.0521387j\n",
       "  -0.26069348+0.12671847j  0.        +0.j         -0.10427739+0.j\n",
       "  -0.10427739+0.j         -0.0521387 +0.0521387j ]\n",
       " [-0.0521387 -0.0521387j  -0.10427739+0.j         -0.10427739+0.j\n",
       "   0.        +0.j         -0.36497087+0.12671847j -0.0521387 +0.0521387j\n",
       "  -0.0521387 +0.0521387j   0.        +0.j        ]\n",
       " [ 0.        +0.j         -0.0521387 -0.0521387j   0.        +0.j\n",
       "  -0.10427739+0.j         -0.0521387 -0.0521387j  -0.15641609+0.12671847j\n",
       "  -0.20855478+0.j         -0.0521387 +0.0521387j ]\n",
       " [ 0.        +0.j          0.        +0.j         -0.0521387 -0.0521387j\n",
       "  -0.10427739+0.j         -0.0521387 -0.0521387j  -0.20855478+0.j\n",
       "  -0.15641609+0.12671847j -0.0521387 +0.0521387j ]\n",
       " [ 0.        +0.j          0.        +0.j          0.        +0.j\n",
       "  -0.0521387 -0.0521387j   0.        +0.j         -0.0521387 -0.0521387j\n",
       "  -0.0521387 -0.0521387j  -0.36497087+0.12671847j]]"
      ],
      "text/latex": "Quantum object: dims = [[2, 2, 2], [2, 2, 2]], shape = (8, 8), type = oper, isherm = False\\begin{equation*}\\left(\\begin{array}{*{11}c}(-0.678+0.127j) & (-0.052+0.052j) & (-0.052+0.052j) & 0.0 & (-0.052+0.052j) & 0.0 & 0.0 & 0.0\\\\(-0.052-0.052j) & (-0.261+0.127j) & -0.209 & (-0.052+0.052j) & -0.104 & (-0.052+0.052j) & 0.0 & 0.0\\\\(-0.052-0.052j) & -0.209 & (-0.261+0.127j) & (-0.052+0.052j) & -0.104 & 0.0 & (-0.052+0.052j) & 0.0\\\\0.0 & (-0.052-0.052j) & (-0.052-0.052j) & (-0.261+0.127j) & 0.0 & -0.104 & -0.104 & (-0.052+0.052j)\\\\(-0.052-0.052j) & -0.104 & -0.104 & 0.0 & (-0.365+0.127j) & (-0.052+0.052j) & (-0.052+0.052j) & 0.0\\\\0.0 & (-0.052-0.052j) & 0.0 & -0.104 & (-0.052-0.052j) & (-0.156+0.127j) & -0.209 & (-0.052+0.052j)\\\\0.0 & 0.0 & (-0.052-0.052j) & -0.104 & (-0.052-0.052j) & -0.209 & (-0.156+0.127j) & (-0.052+0.052j)\\\\0.0 & 0.0 & 0.0 & (-0.052-0.052j) & 0.0 & (-0.052-0.052j) & (-0.052-0.052j) & (-0.365+0.127j)\\\\\\end{array}\\right)\\end{equation*}"
     },
     "metadata": {},
     "execution_count": 10
    }
   ],
   "source": [
    "Qobj(main(m, n, JJ, AA, gama, extmagfield_m, extmagfield_n, kappa, tau))"
   ]
  }
 ]
}