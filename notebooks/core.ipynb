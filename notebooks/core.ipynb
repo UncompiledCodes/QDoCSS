{
 "cells": [
  {
   "cell_type": "code",
   "execution_count": 1,
   "metadata": {},
   "outputs": [],
   "source": [
    "from qutip import *\n",
    "from numpy import pi\n",
    "from scipy.special import jv"
   ]
  },
  {
   "cell_type": "code",
   "execution_count": 2,
   "metadata": {},
   "outputs": [
    {
     "name": "stdout",
     "output_type": "stream",
     "text": [
      "78.53981633974483\n"
     ]
    }
   ],
   "source": [
    "si = qeye(2)\r\n",
    "\r\n",
    "sx = sigmax()\r\n",
    "\r\n",
    "sy = sigmay()\r\n",
    "\r\n",
    "sz = sigmaz()\r\n",
    "\r\n",
    "n = 2\r\n",
    "\r\n",
    "m = 1\r\n",
    "\r\n",
    "extmagfield_m = 1\r\n",
    "\r\n",
    "extmagfield_n = 1 #Qobj([[0, 0, 0], [0, 0, 0], [0.3, 0.3, 0.3]])\r\n",
    "\r\n",
    "JJ = 1 #Qobj([[0, 0, 0], [0, 0, 0], [0, 0, 0]])\r\n",
    "\r\n",
    "AA = 1 #Qobj([[0, 0, 0], [0, 0, 0], [0.99925, 0.625147, 0.551273]])\r\n",
    "# gama = Qobj(\r\n",
    "#     [\r\n",
    "#         [0.0124425, 0.0806628, 0.00999575],\r\n",
    "#         [0.0550028, 0.0758354, 0.07346340],\r\n",
    "#         [0.0972069, 0.0723954, 0.07405450],\r\n",
    "#     ]\r\n",
    "# )\r\n",
    "gama = 1\r\n",
    "t = (10 * 2 * pi) / extmagfield_m\r\n",
    "E1 = (\r\n",
    "    1 / 2 * JJ\r\n",
    "    + 1 / 2 * gama\r\n",
    "    + 1 / 2 * AA\r\n",
    "    + 1 / 2 * extmagfield_n\r\n",
    "    + 1 / 2 * extmagfield_m\r\n",
    ")\r\n",
    "tau = E1 * t / 2\r\n",
    "print(tau)\r\n",
    "kappa = 2 #3 / 2 * tau"
   ]
  },
  {
   "cell_type": "code",
   "execution_count": 3,
   "metadata": {},
   "outputs": [],
   "source": [
    "def spin_op(N):\n",
    "    \"\"\"calculates spin oprators\n",
    "\n",
    "    Args:\n",
    "        N (int): number of electrons or atoms\n",
    "\n",
    "    Returns:\n",
    "        matrix: matrices of spin oprators\n",
    "    \"\"\"\n",
    "    Sx = []\n",
    "    Sy = []\n",
    "    Sz = []\n",
    "\n",
    "    for n in range(N):\n",
    "        x_list = []\n",
    "        y_list = []\n",
    "        z_list = []\n",
    "\n",
    "        for m in range(N):\n",
    "            x_list.append(si)\n",
    "            y_list.append(si)\n",
    "            z_list.append(si)\n",
    "\n",
    "        x_list[n] = sx\n",
    "        y_list[n] = sy\n",
    "        z_list[n] = sz\n",
    "\n",
    "        Sx.append(tensor(x_list))\n",
    "        Sy.append(tensor(y_list))\n",
    "        Sz.append(tensor(z_list))\n",
    "\n",
    "    return [Sx, Sy, Sz]"
   ]
  },
  {
   "cell_type": "code",
   "execution_count": 4,
   "metadata": {},
   "outputs": [],
   "source": [
    "Sx, Sy, Sz = spin_op(m+n)\r\n",
    "# HS & HB are bare hamiltonians of the central system and bath\r\n",
    "# V is the system-bath interaction\r\n",
    "HS = HB = V = 0\r\n",
    "for i in range(m,m+n):\r\n",
    "    HS += extmagfield_m * Sx[i] + extmagfield_m * Sy[i] + extmagfield_m * Sz[i]\r\n",
    "    for j in range(m,m+n):\r\n",
    "        if m != 1:\r\n",
    "            if i == j:\r\n",
    "                continue\r\n",
    "        HS += JJ * Sx[i] * Sx[j] + JJ * Sy[i] * Sy[j] + JJ * Sz[i] * Sz[j]\r\n",
    "\r\n",
    "for i in range(m):\r\n",
    "    HB += extmagfield_n * Sx[i] + extmagfield_n * Sy[i] + extmagfield_n * Sz[i]\r\n",
    "    for j in range(m):\r\n",
    "        if n != 1:\r\n",
    "            if i == j:\r\n",
    "                continue\r\n",
    "        HB += gama * Sx[i] * Sx[j] + gama * Sy[i] * Sy[j] + gama * Sz[i] * Sz[j]\r\n",
    "\r\n",
    "for i in range(m,m+n):\r\n",
    "    for j in range(m):\r\n",
    "        V += AA * Sx[i] * Sx[j] + AA * Sy[i] * Sy[j] + AA * Sz[i] * Sz[j]\r\n",
    "\r\n",
    "HH = HS + HB + V\r\n"
   ]
  },
  {
   "cell_type": "code",
   "execution_count": 5,
   "metadata": {},
   "outputs": [],
   "source": [
    "def TG(k, G):\r\n",
    "    if k == 1:\r\n",
    "        return 1\r\n",
    "    elif k == 2:\r\n",
    "        return G\r\n",
    "    else:\r\n",
    "        return 2 * G * TG(k - 1, G) - TG(k - 2, G)"
   ]
  },
  {
   "cell_type": "code",
   "execution_count": 6,
   "metadata": {},
   "outputs": [],
   "source": [
    "G = 2 * HH / E1\r\n",
    "UU = 0\r\n",
    "for k in range(1, int(kappa) + 1):\r\n",
    "    a = 1\r\n",
    "    if k == 1:\r\n",
    "        a = 2\r\n",
    "    UU += a * ((1j) ** k) * jv(k, tau) * TG(k, G)\r\n",
    "\r\n"
   ]
  },
  {
   "cell_type": "code",
   "execution_count": 7,
   "metadata": {},
   "outputs": [
    {
     "data": {
      "text/latex": [
       "Quantum object: dims = [[2, 2, 2], [2, 2, 2]], shape = (8, 8), type = oper, isherm = False\\begin{equation*}\\left(\\begin{array}{*{11}c}(-0.678+0.127j) & (-0.052+0.052j) & (-0.052+0.052j) & 0.0 & (-0.052+0.052j) & 0.0 & 0.0 & 0.0\\\\(-0.052-0.052j) & (-0.261+0.127j) & -0.209 & (-0.052+0.052j) & -0.104 & (-0.052+0.052j) & 0.0 & 0.0\\\\(-0.052-0.052j) & -0.209 & (-0.261+0.127j) & (-0.052+0.052j) & -0.104 & 0.0 & (-0.052+0.052j) & 0.0\\\\0.0 & (-0.052-0.052j) & (-0.052-0.052j) & (-0.261+0.127j) & 0.0 & -0.104 & -0.104 & (-0.052+0.052j)\\\\(-0.052-0.052j) & -0.104 & -0.104 & 0.0 & (-0.365+0.127j) & (-0.052+0.052j) & (-0.052+0.052j) & 0.0\\\\0.0 & (-0.052-0.052j) & 0.0 & -0.104 & (-0.052-0.052j) & (-0.156+0.127j) & -0.209 & (-0.052+0.052j)\\\\0.0 & 0.0 & (-0.052-0.052j) & -0.104 & (-0.052-0.052j) & -0.209 & (-0.156+0.127j) & (-0.052+0.052j)\\\\0.0 & 0.0 & 0.0 & (-0.052-0.052j) & 0.0 & (-0.052-0.052j) & (-0.052-0.052j) & (-0.365+0.127j)\\\\\\end{array}\\right)\\end{equation*}"
      ],
      "text/plain": [
       "Quantum object: dims = [[2, 2, 2], [2, 2, 2]], shape = (8, 8), type = oper, isherm = False\n",
       "Qobj data =\n",
       "[[-0.67780305+0.12671847j -0.0521387 +0.0521387j  -0.0521387 +0.0521387j\n",
       "   0.        +0.j         -0.0521387 +0.0521387j   0.        +0.j\n",
       "   0.        +0.j          0.        +0.j        ]\n",
       " [-0.0521387 -0.0521387j  -0.26069348+0.12671847j -0.20855478+0.j\n",
       "  -0.0521387 +0.0521387j  -0.10427739+0.j         -0.0521387 +0.0521387j\n",
       "   0.        +0.j          0.        +0.j        ]\n",
       " [-0.0521387 -0.0521387j  -0.20855478+0.j         -0.26069348+0.12671847j\n",
       "  -0.0521387 +0.0521387j  -0.10427739+0.j          0.        +0.j\n",
       "  -0.0521387 +0.0521387j   0.        +0.j        ]\n",
       " [ 0.        +0.j         -0.0521387 -0.0521387j  -0.0521387 -0.0521387j\n",
       "  -0.26069348+0.12671847j  0.        +0.j         -0.10427739+0.j\n",
       "  -0.10427739+0.j         -0.0521387 +0.0521387j ]\n",
       " [-0.0521387 -0.0521387j  -0.10427739+0.j         -0.10427739+0.j\n",
       "   0.        +0.j         -0.36497087+0.12671847j -0.0521387 +0.0521387j\n",
       "  -0.0521387 +0.0521387j   0.        +0.j        ]\n",
       " [ 0.        +0.j         -0.0521387 -0.0521387j   0.        +0.j\n",
       "  -0.10427739+0.j         -0.0521387 -0.0521387j  -0.15641609+0.12671847j\n",
       "  -0.20855478+0.j         -0.0521387 +0.0521387j ]\n",
       " [ 0.        +0.j          0.        +0.j         -0.0521387 -0.0521387j\n",
       "  -0.10427739+0.j         -0.0521387 -0.0521387j  -0.20855478+0.j\n",
       "  -0.15641609+0.12671847j -0.0521387 +0.0521387j ]\n",
       " [ 0.        +0.j          0.        +0.j          0.        +0.j\n",
       "  -0.0521387 -0.0521387j   0.        +0.j         -0.0521387 -0.0521387j\n",
       "  -0.0521387 -0.0521387j  -0.36497087+0.12671847j]]"
      ]
     },
     "execution_count": 7,
     "metadata": {},
     "output_type": "execute_result"
    }
   ],
   "source": [
    "UU"
   ]
  }
 ],
 "metadata": {
  "interpreter": {
   "hash": "cdff111d96b596d2391505e9216806e4d620f9afc25805abbca53ca75b034b76"
  },
  "kernelspec": {
   "display_name": "Python 3.9.5 64-bit ('qdocss': virtualenvwrapper)",
   "name": "python3"
  },
  "language_info": {
   "codemirror_mode": {
    "name": "ipython",
    "version": 3
   },
   "file_extension": ".py",
   "mimetype": "text/x-python",
   "name": "python",
   "nbconvert_exporter": "python",
   "pygments_lexer": "ipython3",
   "version": "3.9.5"
  },
  "orig_nbformat": 4
 },
 "nbformat": 4,
 "nbformat_minor": 2
}