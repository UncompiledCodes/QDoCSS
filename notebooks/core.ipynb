{
 "metadata": {
  "language_info": {
   "codemirror_mode": {
    "name": "ipython",
    "version": 3
   },
   "file_extension": ".py",
   "mimetype": "text/x-python",
   "name": "python",
   "nbconvert_exporter": "python",
   "pygments_lexer": "ipython3",
   "version": "3.9.5"
  },
  "orig_nbformat": 2,
  "kernelspec": {
   "name": "python395jvsc74a57bd0cdff111d96b596d2391505e9216806e4d620f9afc25805abbca53ca75b034b76",
   "display_name": "Python 3.9.5 64-bit ('qdocss': virtualenvwrapper)"
  }
 },
 "nbformat": 4,
 "nbformat_minor": 2,
 "cells": [
  {
   "source": [
    "# Imports"
   ],
   "cell_type": "markdown",
   "metadata": {}
  },
  {
   "cell_type": "code",
   "execution_count": 22,
   "metadata": {},
   "outputs": [],
   "source": [
    "from qutip import *\n",
    "from numpy import pi"
   ]
  },
  {
   "source": [
    "# Inputs"
   ],
   "cell_type": "markdown",
   "metadata": {}
  },
  {
   "cell_type": "code",
   "execution_count": 26,
   "metadata": {},
   "outputs": [],
   "source": [
    "n = 3  # number of nuclei\n",
    "\n",
    "m = 1  # number of electrons\n",
    "\n",
    "extmagfield_m = 1 # external magnetic field of m\n",
    "\n",
    "extmagfield_n = Qobj([[0,0,0],[0,0,0],[0.3,0.3,0.3]]) # external magnetic field of n\n",
    "\n",
    "j = Qobj([[0,0,0],[0,0,0],[0,0,0]]) # value of exchange interaction constant: J\n",
    "\n",
    "a = Qobj([[0,0,0],[0,0,0],[0.99925,0.625147,0.551273]]) # value of exchange interaction constant: A\n",
    "\n",
    "gama = Qobj([[0.0124425, 0.0806628, 0.00999575],[0.0550028, 0.0758354, 0.07346340],[0.0972069, 0.0723954, 0.07405450]]) # value of exchange interaction constant: Gama\n",
    "\n",
    "t = (10*2*pi)/extmagfield_m # value of time"
   ]
  },
  {
   "cell_type": "code",
   "execution_count": 27,
   "metadata": {},
   "outputs": [
    {
     "output_type": "execute_result",
     "data": {
      "text/plain": [
       "62.83185307179586"
      ]
     },
     "metadata": {},
     "execution_count": 27
    }
   ],
   "source": [
    "t"
   ]
  },
  {
   "cell_type": "code",
   "execution_count": 28,
   "metadata": {},
   "outputs": [
    {
     "output_type": "execute_result",
     "data": {
      "text/plain": [
       "Quantum object: dims = [[3], [3]], shape = (3, 3), type = oper, isherm = False\n",
       "Qobj data =\n",
       "[[0.0124425  0.0806628  0.00999575]\n",
       " [0.0550028  0.0758354  0.0734634 ]\n",
       " [0.0972069  0.0723954  0.0740545 ]]"
      ],
      "text/latex": "Quantum object: dims = [[3], [3]], shape = (3, 3), type = oper, isherm = False\\begin{equation*}\\left(\\begin{array}{*{11}c}0.012 & 0.081 & 0.010\\\\0.055 & 0.076 & 0.073\\\\0.097 & 0.072 & 0.074\\\\\\end{array}\\right)\\end{equation*}"
     },
     "metadata": {},
     "execution_count": 28
    }
   ],
   "source": [
    "gama"
   ]
  },
  {
   "cell_type": "code",
   "execution_count": null,
   "metadata": {},
   "outputs": [],
   "source": []
  }
 ]
}