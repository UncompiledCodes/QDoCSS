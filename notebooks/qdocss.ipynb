{
 "cells": [
  {
   "cell_type": "markdown",
   "source": [
    "# **Imports**\r\n",
    "\r\n",
    "Using `qutip` tools for calculations and using bessel function from `scipy`.\r\n"
   ],
   "metadata": {}
  },
  {
   "cell_type": "code",
   "execution_count": 49,
   "source": [
    "from qutip import *\n",
    "from scipy.special import jv\n",
    "import matplotlib.pyplot as plt\n",
    "import numpy as np"
   ],
   "outputs": [],
   "metadata": {}
  },
  {
   "cell_type": "markdown",
   "source": [
    "# **Constants**\r\n",
    "\r\n",
    "* `si`: unitary matrix\r\n",
    "* `sx`, sy, sz: pauli matrix\r\n",
    "* `n`: number of neclei\r\n",
    "* `m`: number of electrons\r\n",
    "* `extmagfield_m`, `extmagfield_n`: external magnetic fields\r\n",
    "* `JJ`, `AA`, `gama`: exchange interaction constants\r\n",
    "* `E1`: rescale factor\r\n",
    "* `t`: time\r\n",
    "* `kappa`: upper limit of chebyshev's expansion"
   ],
   "metadata": {}
  },
  {
   "cell_type": "code",
   "execution_count": 50,
   "source": [
    "si = qeye(2)\n",
    "\n",
    "sx = sigmax()\n",
    "\n",
    "sy = sigmay()\n",
    "\n",
    "sz = sigmaz()\n",
    "\n",
    "n = 1\n",
    "\n",
    "m = 1\n",
    "\n",
    "extmagfield_m = Qobj([[0, 0, 0],[0, 0, 0],[1, 1, 1]])\n",
    "\n",
    "extmagfield_n = Qobj([[0, 0, 0],[0, 0, 0],[0.3, 0.3, 0.3]])\n",
    "\n",
    "JJ = Qobj([[0, 0, 0], [0, 0, 0], [0, 0, 0]])\n",
    "\n",
    "AA = Qobj([[0, 0, 0] ,[0, 0, 0], [0.99925, 0.625147, 0.551273]])\n",
    "gama = Qobj([[0.0124425, 0.0806628, 0.00999575],[0.0550028, 0.0758354, 0.07346340],[0.0972069, 0.0723954, 0.07405450]])\n",
    "E1 = (\n",
    "    1 / 2 * sum(sum(sum(JJ)))\n",
    "    + 1 / 2 * sum(sum(sum(gama)))\n",
    "    + 1 / 2 * sum(sum(sum(AA)))\n",
    "    + sum(sum(sum(extmagfield_m)))\n",
    "    + sum(sum(sum(extmagfield_n)))\n",
    ")\n",
    "t = 0\n",
    "tau = E1 * t / 2\n",
    "kappa = 10"
   ],
   "outputs": [],
   "metadata": {}
  },
  {
   "cell_type": "markdown",
   "source": [
    "# **Spin Operators**\r\n",
    "\r\n",
    "the function for calculating spin operators.\r\n"
   ],
   "metadata": {}
  },
  {
   "cell_type": "code",
   "execution_count": 51,
   "source": [
    "def spin_op(N):\n",
    "    Sx = []\n",
    "    Sy = []\n",
    "    Sz = []\n",
    "\n",
    "    for n in range(N):\n",
    "        x_list = []\n",
    "        y_list = []\n",
    "        z_list = []\n",
    "\n",
    "        for m in range(N):\n",
    "            x_list.append(si)\n",
    "            y_list.append(si)\n",
    "            z_list.append(si)\n",
    "\n",
    "        x_list[n] = sx\n",
    "        y_list[n] = sy\n",
    "        z_list[n] = sz\n",
    "\n",
    "        Sx.append(tensor(x_list))\n",
    "        Sy.append(tensor(y_list))\n",
    "        Sz.append(tensor(z_list))\n",
    "\n",
    "    return [Sx, Sy, Sz]"
   ],
   "outputs": [],
   "metadata": {}
  },
  {
   "cell_type": "markdown",
   "source": [
    "# **Hamiltonian**\r\n",
    "\r\n",
    "HS & HB are bare hamiltonians of the central system and bath.\r\n",
    "\r\n",
    "V is the system-bath interaction."
   ],
   "metadata": {}
  },
  {
   "cell_type": "code",
   "execution_count": 52,
   "source": [
    "Sx, Sy, Sz = spin_op(m+n)\n",
    "HS = HB = V = 0\n",
    "for i in range(m):\n",
    "    HS += extmagfield_m[0,i] * Sx[i] + extmagfield_m[1,i] * Sy[i] + extmagfield_m[2,i] * Sz[i]\n",
    "    for j in range(m):\n",
    "        HS += JJ[0,j] * Sx[i] * Sx[j] + JJ[1,j] * Sy[i] * Sy[j] + JJ[2,j] * Sz[i] * Sz[j]\n",
    "\n",
    "for i in range(m,m+n):\n",
    "    HB += extmagfield_n[0,i] * Sx[i] + extmagfield_n[1,i] * Sy[i] + extmagfield_n[2,i] * Sz[i]\n",
    "    for j in range(m,m+n):\n",
    "        HB += gama[0,j] * Sx[i] * Sx[j] + gama[1,j] * Sy[i] * Sy[j] + gama[2,j] * Sz[i] * Sz[j]\n",
    "for i in range(m,m+n):\n",
    "    for j in range(m):\n",
    "        V += AA[0,j] * Sx[i] * Sx[j] + AA[1,j] * Sy[i] * Sy[j] + AA[2,j] * Sz[i] * Sz[j]\n",
    "HH = HS + HB + V\n"
   ],
   "outputs": [],
   "metadata": {}
  },
  {
   "cell_type": "code",
   "execution_count": 53,
   "source": [
    "HH"
   ],
   "outputs": [
    {
     "output_type": "execute_result",
     "data": {
      "text/latex": [
       "Quantum object: dims = [[2, 2], [2, 2]], shape = (4, 4), type = oper, isherm = True\\begin{equation*}\\left(\\begin{array}{*{11}c}2.528 & 0.0 & 0.0 & 0.0\\\\0.0 & -0.070 & 0.0 & 0.0\\\\0.0 & 0.0 & -1.470 & 0.0\\\\0.0 & 0.0 & 0.0 & -0.072\\\\\\end{array}\\right)\\end{equation*}"
      ],
      "text/plain": [
       "Quantum object: dims = [[2, 2], [2, 2]], shape = (4, 4), type = oper, isherm = True\n",
       "Qobj data =\n",
       "[[ 2.5281436  0.         0.         0.       ]\n",
       " [ 0.        -0.0703564  0.         0.       ]\n",
       " [ 0.         0.        -1.4703564  0.       ]\n",
       " [ 0.         0.         0.        -0.0718564]]"
      ]
     },
     "metadata": {},
     "execution_count": 53
    }
   ],
   "metadata": {}
  },
  {
   "cell_type": "markdown",
   "source": [
    "# **TG**\r\n",
    "\r\n",
    "the function that determines the successive terms in the chebyshev series."
   ],
   "metadata": {}
  },
  {
   "cell_type": "code",
   "execution_count": 54,
   "source": [
    "def TG(k, G):\n",
    "    if k == 0:\n",
    "        return 1\n",
    "    elif k == 1:\n",
    "        return G\n",
    "    else:\n",
    "        return 2 * G * TG(k-1, G) - TG(k-2, G)"
   ],
   "outputs": [],
   "metadata": {}
  },
  {
   "cell_type": "markdown",
   "source": [
    "# **Evolution Operator**\r\n",
    "\r\n",
    "* `G`: is the rescaled hamiltonian\r\n",
    "* `jv`: bessel function"
   ],
   "metadata": {}
  },
  {
   "cell_type": "code",
   "execution_count": 55,
   "source": [
    "G = 2 * HH / E1\n",
    "UU = 0\n",
    "for k in range(int(kappa) + 1):\n",
    "    a = 2\n",
    "    if k == 0:\n",
    "        a = 1\n",
    "    UU += a * ((-1j) ** k) * jv(k,tau) * TG(k, G)\n",
    "\n"
   ],
   "outputs": [],
   "metadata": {}
  },
  {
   "cell_type": "code",
   "execution_count": 56,
   "source": [
    "UU"
   ],
   "outputs": [
    {
     "output_type": "execute_result",
     "data": {
      "text/latex": [
       "Quantum object: dims = [[2, 2], [2, 2]], shape = (4, 4), type = oper, isherm = True\\begin{equation*}\\left(\\begin{array}{*{11}c}1.0 & 0.0 & 0.0 & 0.0\\\\0.0 & 1.0 & 0.0 & 0.0\\\\0.0 & 0.0 & 1.0 & 0.0\\\\0.0 & 0.0 & 0.0 & 1.0\\\\\\end{array}\\right)\\end{equation*}"
      ],
      "text/plain": [
       "Quantum object: dims = [[2, 2], [2, 2]], shape = (4, 4), type = oper, isherm = True\n",
       "Qobj data =\n",
       "[[1. 0. 0. 0.]\n",
       " [0. 1. 0. 0.]\n",
       " [0. 0. 1. 0.]\n",
       " [0. 0. 0. 1.]]"
      ]
     },
     "metadata": {},
     "execution_count": 56
    }
   ],
   "metadata": {}
  },
  {
   "cell_type": "markdown",
   "source": [
    "# **Test**\r\n",
    "\r\n",
    "creating a final state density matrix using arbitary $\\psi_{0}$\r\n",
    "\r\n",
    "if the trace of the final state density matrix is equal to $1$ , the evolution operator is acceptable.\r\n",
    "\r\n",
    "another test is that the product of $U$ and $U^\\dag$ should be unitary.\r\n"
   ],
   "metadata": {}
  },
  {
   "cell_type": "code",
   "execution_count": 57,
   "source": [
    "zero = basis(2) \n",
    "c = create(2)\n",
    "one=c*zero\n",
    "psi=tensor(tensor(one,basis(2)))\n",
    "psi0=psi*psi.dag()\n",
    "print(\"trace: {}\".format(psi0.tr())) \n",
    "psi0"
   ],
   "outputs": [
    {
     "output_type": "stream",
     "name": "stdout",
     "text": [
      "trace: 1.0\n"
     ]
    },
    {
     "output_type": "execute_result",
     "data": {
      "text/latex": [
       "Quantum object: dims = [[2, 2], [2, 2]], shape = (4, 4), type = oper, isherm = True\\begin{equation*}\\left(\\begin{array}{*{11}c}0.0 & 0.0 & 0.0 & 0.0\\\\0.0 & 0.0 & 0.0 & 0.0\\\\0.0 & 0.0 & 1.0 & 0.0\\\\0.0 & 0.0 & 0.0 & 0.0\\\\\\end{array}\\right)\\end{equation*}"
      ],
      "text/plain": [
       "Quantum object: dims = [[2, 2], [2, 2]], shape = (4, 4), type = oper, isherm = True\n",
       "Qobj data =\n",
       "[[0. 0. 0. 0.]\n",
       " [0. 0. 0. 0.]\n",
       " [0. 0. 1. 0.]\n",
       " [0. 0. 0. 0.]]"
      ]
     },
     "metadata": {},
     "execution_count": 57
    }
   ],
   "metadata": {}
  },
  {
   "cell_type": "code",
   "execution_count": 58,
   "source": [
    "psif = UU * psi0\n",
    "result = psif * psif.dag()\n",
    "print(\"trace: {}\".format(result.tr()))\n",
    "result"
   ],
   "outputs": [
    {
     "output_type": "stream",
     "name": "stdout",
     "text": [
      "trace: 1.0\n"
     ]
    },
    {
     "output_type": "execute_result",
     "data": {
      "text/latex": [
       "Quantum object: dims = [[2, 2], [2, 2]], shape = (4, 4), type = oper, isherm = True\\begin{equation*}\\left(\\begin{array}{*{11}c}0.0 & 0.0 & 0.0 & 0.0\\\\0.0 & 0.0 & 0.0 & 0.0\\\\0.0 & 0.0 & 1.0 & 0.0\\\\0.0 & 0.0 & 0.0 & 0.0\\\\\\end{array}\\right)\\end{equation*}"
      ],
      "text/plain": [
       "Quantum object: dims = [[2, 2], [2, 2]], shape = (4, 4), type = oper, isherm = True\n",
       "Qobj data =\n",
       "[[0. 0. 0. 0.]\n",
       " [0. 0. 0. 0.]\n",
       " [0. 0. 1. 0.]\n",
       " [0. 0. 0. 0.]]"
      ]
     },
     "metadata": {},
     "execution_count": 58
    }
   ],
   "metadata": {}
  },
  {
   "cell_type": "code",
   "execution_count": 59,
   "source": [
    "UU*UU.dag()"
   ],
   "outputs": [
    {
     "output_type": "execute_result",
     "data": {
      "text/latex": [
       "Quantum object: dims = [[2, 2], [2, 2]], shape = (4, 4), type = oper, isherm = True\\begin{equation*}\\left(\\begin{array}{*{11}c}1.0 & 0.0 & 0.0 & 0.0\\\\0.0 & 1.0 & 0.0 & 0.0\\\\0.0 & 0.0 & 1.0 & 0.0\\\\0.0 & 0.0 & 0.0 & 1.0\\\\\\end{array}\\right)\\end{equation*}"
      ],
      "text/plain": [
       "Quantum object: dims = [[2, 2], [2, 2]], shape = (4, 4), type = oper, isherm = True\n",
       "Qobj data =\n",
       "[[1. 0. 0. 0.]\n",
       " [0. 1. 0. 0.]\n",
       " [0. 0. 1. 0.]\n",
       " [0. 0. 0. 1.]]"
      ]
     },
     "metadata": {},
     "execution_count": 59
    }
   ],
   "metadata": {}
  }
 ],
 "metadata": {
  "interpreter": {
   "hash": "20ac9112aea79ba0ae2015cd435cafe6f4f5f0f78739b4299e46d97f8261bcf8"
  },
  "kernelspec": {
   "name": "python3",
   "display_name": "Python 3.9.6 64-bit ('qdocss': virtualenv)"
  },
  "language_info": {
   "codemirror_mode": {
    "name": "ipython",
    "version": 3
   },
   "file_extension": ".py",
   "mimetype": "text/x-python",
   "name": "python",
   "nbconvert_exporter": "python",
   "pygments_lexer": "ipython3",
   "version": "3.9.6"
  },
  "orig_nbformat": 4
 },
 "nbformat": 4,
 "nbformat_minor": 2
}