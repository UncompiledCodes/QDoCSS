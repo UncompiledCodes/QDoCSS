{
 "cells": [
  {
   "cell_type": "code",
   "execution_count": 199,
   "source": [
    "from qutip import *\r\n",
    "from numpy import pi, linalg\r\n",
    "from scipy.special import jv"
   ],
   "outputs": [],
   "metadata": {}
  },
  {
   "cell_type": "code",
   "execution_count": 200,
   "source": [
    "si = qeye(2)\r\n",
    "\r\n",
    "sx = sigmax()\r\n",
    "\r\n",
    "sy = sigmay()\r\n",
    "\r\n",
    "sz = sigmaz()\r\n",
    "\r\n",
    "n = 1\r\n",
    "\r\n",
    "m = 1\r\n",
    "\r\n",
    "extmagfield_m = [[1, 1, 1],[1, 1, 1],[1, 1, 1]]\r\n",
    "\r\n",
    "extmagfield_n = [[0, 0, 0],[0, 0, 0],[0.3, 0.3, 0.3]]\r\n",
    "\r\n",
    "JJ = [[0, 0, 0], [0, 0, 0], [0, 0, 0]]\r\n",
    "\r\n",
    "AA = [[0, 0, 0] ,[0, 0, 0], [0.99925, 0.625147, 0.551273]]\r\n",
    "gama = [[0.0124425, 0.0806628, 0.00999575],[0.0550028, 0.0758354, 0.07346340],[0.0972069, 0.0723954, 0.07405450]]\r\n",
    "# gama = 1\r\n",
    "t = 0.84\r\n",
    "E1 = (\r\n",
    "    1 / 2 * sum([sum(i) for i in zip(*JJ)])\r\n",
    "    + 1 / 2 * sum([sum(i) for i in zip(*gama)])\r\n",
    "    + 1 / 2 * sum([sum(i) for i in zip(*AA)])\r\n",
    "    + 1 / 2 * sum([sum(i) for i in zip(*extmagfield_n)])\r\n",
    "    + 1 / 2 * sum([sum(i) for i in zip(*extmagfield_m)])\r\n",
    ")\r\n",
    "tau = E1 * t / 2\r\n",
    "print(E1)\r\n",
    "kappa = 20 #3 / 2 * tau\r\n",
    "print(tau)"
   ],
   "outputs": [
    {
     "output_type": "stream",
     "name": "stdout",
     "text": [
      "6.313364725\n",
      "2.6516131844999995\n"
     ]
    }
   ],
   "metadata": {}
  },
  {
   "cell_type": "code",
   "execution_count": 201,
   "source": [
    "def spin_op(N):\r\n",
    "    \"\"\"calculates spin oprators\r\n",
    "\r\n",
    "    Args:\r\n",
    "        N (int): number of electrons or atoms\r\n",
    "\r\n",
    "    Returns:\r\n",
    "        matrix: matrices of spin oprators\r\n",
    "    \"\"\"\r\n",
    "    Sx = []\r\n",
    "    Sy = []\r\n",
    "    Sz = []\r\n",
    "\r\n",
    "    for n in range(N):\r\n",
    "        x_list = []\r\n",
    "        y_list = []\r\n",
    "        z_list = []\r\n",
    "\r\n",
    "        for m in range(N):\r\n",
    "            x_list.append(si)\r\n",
    "            y_list.append(si)\r\n",
    "            z_list.append(si)\r\n",
    "\r\n",
    "        x_list[n] = sx\r\n",
    "        y_list[n] = sy\r\n",
    "        z_list[n] = sz\r\n",
    "\r\n",
    "        Sx.append(tensor(x_list))\r\n",
    "        Sy.append(tensor(y_list))\r\n",
    "        Sz.append(tensor(z_list))\r\n",
    "\r\n",
    "    return [Sx, Sy, Sz]"
   ],
   "outputs": [],
   "metadata": {}
  },
  {
   "cell_type": "code",
   "execution_count": 202,
   "source": [
    "Sx, Sy, Sz = spin_op(m+n)\r\n",
    "# HS & HB are bare hamiltonians of the central system and bath\r\n",
    "# V is the system-bath interaction\r\n",
    "HS = HB = V = 0\r\n",
    "for i in range(m):\r\n",
    "    HS += extmagfield_m[0][i] * Sx[i] + extmagfield_m[1][i] * Sy[i] + extmagfield_m[2][i] * Sz[i]\r\n",
    "    for j in range(m):\r\n",
    "        HS += JJ[0][j] * Sx[i] * Sx[j] + JJ[1][j] * Sy[i] * Sy[j] + JJ[2][j] * Sz[i] * Sz[j]\r\n",
    "\r\n",
    "for i in range(m,m+n):\r\n",
    "    HB += extmagfield_n[0][i] * Sx[i] + extmagfield_n[1][i] * Sy[i] + extmagfield_n[2][i] * Sz[i]\r\n",
    "    for j in range(m,m+n):\r\n",
    "        HB += gama[0][j] * Sx[i] * Sx[j] + gama[1][j] * Sy[i] * Sy[j] + gama[2][j] * Sz[i] * Sz[j]\r\n",
    "for i in range(m,m+n):\r\n",
    "    for j in range(m):\r\n",
    "        V += AA[0][j] * Sx[i] * Sx[j] + AA[1][j] * Sy[i] * Sy[j] + AA[2][j] * Sz[i] * Sz[j]\r\n",
    "HH = HS + HB + V\r\n"
   ],
   "outputs": [],
   "metadata": {}
  },
  {
   "cell_type": "code",
   "execution_count": 203,
   "source": [
    "HH\r\n",
    "\r\n",
    "\r\n",
    "\r\n"
   ],
   "outputs": [
    {
     "output_type": "execute_result",
     "data": {
      "text/plain": [
       "Quantum object: dims = [[2, 2], [2, 2]], shape = (4, 4), type = oper, isherm = True\n",
       "Qobj data =\n",
       "[[ 2.5281436+0.j  0.       +0.j  1.       -1.j  0.       +0.j]\n",
       " [ 0.       +0.j -0.0703564+0.j  0.       +0.j  1.       -1.j]\n",
       " [ 1.       +1.j  0.       +0.j -1.4703564+0.j  0.       +0.j]\n",
       " [ 0.       +0.j  1.       +1.j  0.       +0.j -0.0718564+0.j]]"
      ],
      "text/latex": [
       "Quantum object: dims = [[2, 2], [2, 2]], shape = (4, 4), type = oper, isherm = True\\begin{equation*}\\left(\\begin{array}{*{11}c}2.528 & 0.0 & (1.0-1.0j) & 0.0\\\\0.0 & -0.070 & 0.0 & (1.0-1.0j)\\\\(1.0+1.0j) & 0.0 & -1.470 & 0.0\\\\0.0 & (1.0+1.0j) & 0.0 & -0.072\\\\\\end{array}\\right)\\end{equation*}"
      ]
     },
     "metadata": {},
     "execution_count": 203
    }
   ],
   "metadata": {}
  },
  {
   "cell_type": "code",
   "execution_count": 204,
   "source": [
    "def TG(k, G):\r\n",
    "    if k == 1:\r\n",
    "        return 1\r\n",
    "    elif k == 2:\r\n",
    "        return G\r\n",
    "    else:\r\n",
    "        return 2 * G * TG(k - 1, G) - TG(k - 2, G)"
   ],
   "outputs": [],
   "metadata": {}
  },
  {
   "cell_type": "code",
   "execution_count": 205,
   "source": [
    "G = 2 * HH / E1\r\n",
    "UU = 0\r\n",
    "for k in range(1, int(kappa) + 1):\r\n",
    "    a = 1\r\n",
    "    if k == 1:\r\n",
    "        a = 2\r\n",
    "    UU += a * ((1j) ** k) * jv(k, tau) * TG(k, G)\r\n",
    "\r\n"
   ],
   "outputs": [],
   "metadata": {}
  },
  {
   "cell_type": "code",
   "execution_count": 206,
   "source": [
    "UU"
   ],
   "outputs": [
    {
     "output_type": "execute_result",
     "data": {
      "text/plain": [
       "Quantum object: dims = [[2, 2], [2, 2]], shape = (4, 4), type = oper, isherm = False\n",
       "Qobj data =\n",
       "[[-0.32123171+0.74787008j  0.        +0.j         -0.20034248+0.10800969j\n",
       "   0.        +0.j        ]\n",
       " [ 0.        +0.j          0.01096235+1.05033896j  0.        +0.j\n",
       "  -0.20362052+0.22113781j]\n",
       " [-0.10800969-0.20034248j  0.        +0.j          0.29524135+0.9324664j\n",
       "   0.        +0.j        ]\n",
       " [ 0.        +0.j         -0.22113781-0.20362052j  0.        +0.j\n",
       "   0.01128092+1.05032582j]]"
      ],
      "text/latex": [
       "Quantum object: dims = [[2, 2], [2, 2]], shape = (4, 4), type = oper, isherm = False\\begin{equation*}\\left(\\begin{array}{*{11}c}(-0.321+0.748j) & 0.0 & (-0.200+0.108j) & 0.0\\\\0.0 & (0.011+1.050j) & 0.0 & (-0.204+0.221j)\\\\(-0.108-0.200j) & 0.0 & (0.295+0.932j) & 0.0\\\\0.0 & (-0.221-0.204j) & 0.0 & (0.011+1.050j)\\\\\\end{array}\\right)\\end{equation*}"
      ]
     },
     "metadata": {},
     "execution_count": 206
    }
   ],
   "metadata": {}
  },
  {
   "cell_type": "code",
   "execution_count": 210,
   "source": [
    "zero = basis(2) \r\n",
    "c = create(2)\r\n",
    "one=c*zero\r\n",
    "psi=tensor(one,zero)\r\n",
    "psi0=psi*psi.dag()\r\n",
    "print(\"trace: {}\".format(psi0.tr())) \r\n",
    "psi0"
   ],
   "outputs": [
    {
     "output_type": "stream",
     "name": "stdout",
     "text": [
      "trace: 1.0\n"
     ]
    },
    {
     "output_type": "execute_result",
     "data": {
      "text/plain": [
       "Quantum object: dims = [[2, 2], [2, 2]], shape = (4, 4), type = oper, isherm = True\n",
       "Qobj data =\n",
       "[[0. 0. 0. 0.]\n",
       " [0. 0. 0. 0.]\n",
       " [0. 0. 1. 0.]\n",
       " [0. 0. 0. 0.]]"
      ],
      "text/latex": [
       "Quantum object: dims = [[2, 2], [2, 2]], shape = (4, 4), type = oper, isherm = True\\begin{equation*}\\left(\\begin{array}{*{11}c}0.0 & 0.0 & 0.0 & 0.0\\\\0.0 & 0.0 & 0.0 & 0.0\\\\0.0 & 0.0 & 1.0 & 0.0\\\\0.0 & 0.0 & 0.0 & 0.0\\\\\\end{array}\\right)\\end{equation*}"
      ]
     },
     "metadata": {},
     "execution_count": 210
    }
   ],
   "metadata": {}
  },
  {
   "cell_type": "code",
   "execution_count": 209,
   "source": [
    "psif = UU * psi0\r\n",
    "result = psif * psif.dag()\r\n",
    "print(\"trace: {:.1f}\".format(result.tr()))\r\n",
    "result"
   ],
   "outputs": [
    {
     "output_type": "stream",
     "name": "stdout",
     "text": [
      "trace: 1.0\n"
     ]
    },
    {
     "output_type": "execute_result",
     "data": {
      "text/plain": [
       "Quantum object: dims = [[2, 2], [2, 2]], shape = (4, 4), type = oper, isherm = True\n",
       "Qobj data =\n",
       "[[0.0518032 +0.j         0.        +0.j         0.04156602+0.21870156j\n",
       "  0.        +0.j        ]\n",
       " [0.        +0.j         0.        +0.j         0.        +0.j\n",
       "  0.        +0.j        ]\n",
       " [0.04156602-0.21870156j 0.        +0.j         0.95666105+0.j\n",
       "  0.        +0.j        ]\n",
       " [0.        +0.j         0.        +0.j         0.        +0.j\n",
       "  0.        +0.j        ]]"
      ],
      "text/latex": [
       "Quantum object: dims = [[2, 2], [2, 2]], shape = (4, 4), type = oper, isherm = True\\begin{equation*}\\left(\\begin{array}{*{11}c}0.052 & 0.0 & (0.042+0.219j) & 0.0\\\\0.0 & 0.0 & 0.0 & 0.0\\\\(0.042-0.219j) & 0.0 & 0.957 & 0.0\\\\0.0 & 0.0 & 0.0 & 0.0\\\\\\end{array}\\right)\\end{equation*}"
      ]
     },
     "metadata": {},
     "execution_count": 209
    }
   ],
   "metadata": {}
  },
  {
   "cell_type": "code",
   "execution_count": null,
   "source": [],
   "outputs": [],
   "metadata": {}
  }
 ],
 "metadata": {
  "interpreter": {
   "hash": "cdff111d96b596d2391505e9216806e4d620f9afc25805abbca53ca75b034b76"
  },
  "kernelspec": {
   "display_name": "Python 3.9.6 64-bit ('qdocss': virtualenvwrapper)",
   "name": "python3"
  },
  "language_info": {
   "codemirror_mode": {
    "name": "ipython",
    "version": 3
   },
   "file_extension": ".py",
   "mimetype": "text/x-python",
   "name": "python",
   "nbconvert_exporter": "python",
   "pygments_lexer": "ipython3",
   "version": "3.9.6"
  },
  "orig_nbformat": 4
 },
 "nbformat": 4,
 "nbformat_minor": 2
}