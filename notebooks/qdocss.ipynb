{
 "cells": [
  {
   "cell_type": "code",
   "execution_count": 187,
   "source": [
    "from qutip import *\r\n",
    "from numpy import pi, linalg\r\n",
    "from scipy.special import jv"
   ],
   "outputs": [],
   "metadata": {}
  },
  {
   "cell_type": "code",
   "execution_count": 188,
   "source": [
    "si = qeye(2)\r\n",
    "\r\n",
    "sx = sigmax()\r\n",
    "\r\n",
    "sy = sigmay()\r\n",
    "\r\n",
    "sz = sigmaz()\r\n",
    "\r\n",
    "n = 2\r\n",
    "\r\n",
    "m = 1\r\n",
    "\r\n",
    "extmagfield_m = 1\r\n",
    "\r\n",
    "extmagfield_n = [[0, 0, 0],[0, 0, 0],[0.3, 0.3, 0.3]]\r\n",
    "\r\n",
    "JJ = [[0, 0, 0], [0, 0, 0], [0, 0, 0]]\r\n",
    "\r\n",
    "AA = [[0, 0, 0] ,[0, 0, 0], [0.99925, 0.625147, 0.551273]]\r\n",
    "gama = [[0.0124425, 0.0806628, 0.00999575],[0.0550028, 0.0758354, 0.07346340],[0.0972069, 0.0723954, 0.07405450]]\r\n",
    "# gama = 1\r\n",
    "t = 1.77\r\n",
    "E1 = (\r\n",
    "    1 / 2 * sum([sum(i) for i in zip(*JJ)])\r\n",
    "    + 1 / 2 * sum([sum(i) for i in zip(*gama)])\r\n",
    "    + 1 / 2 * sum([sum(i) for i in zip(*AA)])\r\n",
    "    + 1 / 2 * sum([sum(i) for i in zip(*extmagfield_n)])\r\n",
    "    + 1 / 2 * extmagfield_m\r\n",
    ")\r\n",
    "tau = E1 * t / 2\r\n",
    "print(E1)\r\n",
    "kappa = 3 / 2 * tau\r\n",
    "print(tau)"
   ],
   "outputs": [
    {
     "output_type": "stream",
     "name": "stdout",
     "text": [
      "2.313364725\n",
      "2.047327781625\n"
     ]
    }
   ],
   "metadata": {}
  },
  {
   "cell_type": "code",
   "execution_count": 189,
   "source": [
    "def spin_op(N):\r\n",
    "    \"\"\"calculates spin oprators\r\n",
    "\r\n",
    "    Args:\r\n",
    "        N (int): number of electrons or atoms\r\n",
    "\r\n",
    "    Returns:\r\n",
    "        matrix: matrices of spin oprators\r\n",
    "    \"\"\"\r\n",
    "    Sx = []\r\n",
    "    Sy = []\r\n",
    "    Sz = []\r\n",
    "\r\n",
    "    for n in range(N):\r\n",
    "        x_list = []\r\n",
    "        y_list = []\r\n",
    "        z_list = []\r\n",
    "\r\n",
    "        for m in range(N):\r\n",
    "            x_list.append(si)\r\n",
    "            y_list.append(si)\r\n",
    "            z_list.append(si)\r\n",
    "\r\n",
    "        x_list[n] = sx\r\n",
    "        y_list[n] = sy\r\n",
    "        z_list[n] = sz\r\n",
    "\r\n",
    "        Sx.append(tensor(x_list))\r\n",
    "        Sy.append(tensor(y_list))\r\n",
    "        Sz.append(tensor(z_list))\r\n",
    "\r\n",
    "    return [Sx, Sy, Sz]"
   ],
   "outputs": [],
   "metadata": {}
  },
  {
   "cell_type": "code",
   "execution_count": 190,
   "source": [
    "Sx, Sy, Sz = spin_op(m+n)\r\n",
    "# HS & HB are bare hamiltonians of the central system and bath\r\n",
    "# V is the system-bath interaction\r\n",
    "HS = HB = V = 0\r\n",
    "for i in range(m):\r\n",
    "    HS += extmagfield_m * Sx[i] + extmagfield_m * Sy[i] + extmagfield_m * Sz[i]\r\n",
    "    for j in range(m):\r\n",
    "        HS += JJ[0][j] * Sx[i] * Sx[j] + JJ[1][j] * Sy[i] * Sy[j] + JJ[2][j] * Sz[i] * Sz[j]\r\n",
    "\r\n",
    "for i in range(m,m+n):\r\n",
    "    HB += extmagfield_n[0][i] * Sx[i] + extmagfield_n[1][i] * Sy[i] + extmagfield_n[2][i] * Sz[i]\r\n",
    "    for j in range(m,m+n):\r\n",
    "        HB += gama[0][j] * Sx[i] * Sx[j] + gama[1][j] * Sy[i] * Sy[j] + gama[2][j] * Sz[i] * Sz[j]\r\n",
    "for i in range(m,m+n):\r\n",
    "    for j in range(m):\r\n",
    "        V += AA[0][j] * Sx[i] * Sx[j] + AA[1][j] * Sy[i] * Sy[j] + AA[2][j] * Sz[i] * Sz[j]\r\n",
    "HH = HS + HB + V\r\n"
   ],
   "outputs": [],
   "metadata": {}
  },
  {
   "cell_type": "code",
   "execution_count": 191,
   "source": [
    "HH\r\n",
    "\r\n",
    "\r\n",
    "\r\n"
   ],
   "outputs": [
    {
     "output_type": "execute_result",
     "data": {
      "text/plain": [
       "Quantum object: dims = [[2, 2, 2], [2, 2, 2]], shape = (8, 8), type = oper, isherm = True\n",
       "Qobj data =\n",
       "[[ 4.13135715+0.j  0.        +0.j  0.        +0.j -0.05864025+0.j\n",
       "   1.        -1.j  0.        +0.j  0.        +0.j  0.        +0.j]\n",
       " [ 0.        +0.j  1.23995735+0.j  0.23995735+0.j  0.        +0.j\n",
       "   0.        +0.j  1.        -1.j  0.        +0.j  0.        +0.j]\n",
       " [ 0.        +0.j  0.23995735+0.j  1.23995735+0.j  0.        +0.j\n",
       "   0.        +0.j  0.        +0.j  1.        -1.j  0.        +0.j]\n",
       " [-0.05864025+0.j  0.        +0.j  0.        +0.j -1.06564285+0.j\n",
       "   0.        +0.j  0.        +0.j  0.        +0.j  1.        -1.j]\n",
       " [ 1.        +1.j  0.        +0.j  0.        +0.j  0.        +0.j\n",
       "  -1.86564285+0.j  0.        +0.j  0.        +0.j -0.05864025+0.j]\n",
       " [ 0.        +0.j  1.        +1.j  0.        +0.j  0.        +0.j\n",
       "   0.        +0.j -0.76004265+0.j  0.23995735+0.j  0.        +0.j]\n",
       " [ 0.        +0.j  0.        +0.j  1.        +1.j  0.        +0.j\n",
       "   0.        +0.j  0.23995735+0.j -0.76004265+0.j  0.        +0.j]\n",
       " [ 0.        +0.j  0.        +0.j  0.        +0.j  1.        +1.j\n",
       "  -0.05864025+0.j  0.        +0.j  0.        +0.j  0.93135715+0.j]]"
      ],
      "text/latex": [
       "Quantum object: dims = [[2, 2, 2], [2, 2, 2]], shape = (8, 8), type = oper, isherm = True\\begin{equation*}\\left(\\begin{array}{*{11}c}4.131 & 0.0 & 0.0 & -0.059 & (1.0-1.0j) & 0.0 & 0.0 & 0.0\\\\0.0 & 1.240 & 0.240 & 0.0 & 0.0 & (1.0-1.0j) & 0.0 & 0.0\\\\0.0 & 0.240 & 1.240 & 0.0 & 0.0 & 0.0 & (1.0-1.0j) & 0.0\\\\-0.059 & 0.0 & 0.0 & -1.066 & 0.0 & 0.0 & 0.0 & (1.0-1.0j)\\\\(1.0+1.0j) & 0.0 & 0.0 & 0.0 & -1.866 & 0.0 & 0.0 & -0.059\\\\0.0 & (1.0+1.0j) & 0.0 & 0.0 & 0.0 & -0.760 & 0.240 & 0.0\\\\0.0 & 0.0 & (1.0+1.0j) & 0.0 & 0.0 & 0.240 & -0.760 & 0.0\\\\0.0 & 0.0 & 0.0 & (1.0+1.0j) & -0.059 & 0.0 & 0.0 & 0.931\\\\\\end{array}\\right)\\end{equation*}"
      ]
     },
     "metadata": {},
     "execution_count": 191
    }
   ],
   "metadata": {}
  },
  {
   "cell_type": "code",
   "execution_count": 192,
   "source": [
    "def TG(k, G):\r\n",
    "    if k == 1:\r\n",
    "        return 1\r\n",
    "    elif k == 2:\r\n",
    "        return G\r\n",
    "    else:\r\n",
    "        return 2 * G * TG(k - 1, G) - TG(k - 2, G)"
   ],
   "outputs": [],
   "metadata": {}
  },
  {
   "cell_type": "code",
   "execution_count": 193,
   "source": [
    "G = 2 * HH / E1\r\n",
    "UU = 0\r\n",
    "for k in range(1, int(kappa) + 1):\r\n",
    "    a = 1\r\n",
    "    if k == 1:\r\n",
    "        a = 2\r\n",
    "    UU += a * ((1j) ** k) * jv(k, tau) * TG(k, G)\r\n",
    "\r\n"
   ],
   "outputs": [],
   "metadata": {}
  },
  {
   "cell_type": "code",
   "execution_count": 194,
   "source": [
    "UU"
   ],
   "outputs": [
    {
     "output_type": "execute_result",
     "data": {
      "text/plain": [
       "Quantum object: dims = [[2, 2, 2], [2, 2, 2]], shape = (8, 8), type = oper, isherm = False\n",
       "Qobj data =\n",
       "[[-1.29761192-2.61071695j  0.        +0.j          0.        +0.j\n",
       "   0.01841823+0.03670366j -0.77666872-0.14849164j  0.        +0.j\n",
       "   0.        +0.j          0.02394461+0.02394461j]\n",
       " [ 0.        +0.j         -0.38945639+0.54904219j -0.07536785-0.1214934j\n",
       "   0.        +0.j          0.        +0.j         -0.41207045+0.21610662j\n",
       "  -0.09798192-0.09798192j  0.        +0.j        ]\n",
       " [ 0.        +0.j         -0.07536785-0.1214934j  -0.38945639+0.54904219j\n",
       "   0.        +0.j          0.        +0.j         -0.09798192-0.09798192j\n",
       "  -0.41207045+0.21610662j  0.        +0.j        ]\n",
       " [ 0.01841823+0.03670366j  0.        +0.j          0.        +0.j\n",
       "   0.3347062 +0.6421498j   0.02394461+0.02394461j  0.        +0.j\n",
       "   0.        +0.j         -0.28667206+0.34150501j]\n",
       " [ 0.14849164-0.77666872j  0.        +0.j          0.        +0.j\n",
       "  -0.02394461+0.02394461j  0.58597703+0.1633764j   0.        +0.j\n",
       "   0.        +0.j          0.01841823-0.01118555j]\n",
       " [ 0.        +0.j         -0.21610662-0.41207045j  0.09798192-0.09798192j\n",
       "   0.        +0.j          0.        +0.j          0.23872068+0.74500602j\n",
       "  -0.07536785+0.07447044j  0.        +0.j        ]\n",
       " [ 0.        +0.j          0.09798192-0.09798192j -0.21610662-0.41207045j\n",
       "   0.        +0.j          0.        +0.j         -0.07536785+0.07447044j\n",
       "   0.23872068+0.74500602j  0.        +0.j        ]\n",
       " [-0.02394461+0.02394461j  0.        +0.j          0.        +0.j\n",
       "  -0.34150501-0.28667206j  0.01841823-0.01118555j  0.        +0.j\n",
       "   0.        +0.j         -0.2925286 +0.69690051j]]"
      ],
      "text/latex": [
       "Quantum object: dims = [[2, 2, 2], [2, 2, 2]], shape = (8, 8), type = oper, isherm = False\\begin{equation*}\\left(\\begin{array}{*{11}c}(-1.298-2.611j) & 0.0 & 0.0 & (0.018+0.037j) & (-0.777-0.148j) & 0.0 & 0.0 & (0.024+0.024j)\\\\0.0 & (-0.389+0.549j) & (-0.075-0.121j) & 0.0 & 0.0 & (-0.412+0.216j) & (-0.098-0.098j) & 0.0\\\\0.0 & (-0.075-0.121j) & (-0.389+0.549j) & 0.0 & 0.0 & (-0.098-0.098j) & (-0.412+0.216j) & 0.0\\\\(0.018+0.037j) & 0.0 & 0.0 & (0.335+0.642j) & (0.024+0.024j) & 0.0 & 0.0 & (-0.287+0.342j)\\\\(0.148-0.777j) & 0.0 & 0.0 & (-0.024+0.024j) & (0.586+0.163j) & 0.0 & 0.0 & (0.018-0.011j)\\\\0.0 & (-0.216-0.412j) & (0.098-0.098j) & 0.0 & 0.0 & (0.239+0.745j) & (-0.075+0.074j) & 0.0\\\\0.0 & (0.098-0.098j) & (-0.216-0.412j) & 0.0 & 0.0 & (-0.075+0.074j) & (0.239+0.745j) & 0.0\\\\(-0.024+0.024j) & 0.0 & 0.0 & (-0.342-0.287j) & (0.018-0.011j) & 0.0 & 0.0 & (-0.293+0.697j)\\\\\\end{array}\\right)\\end{equation*}"
      ]
     },
     "metadata": {},
     "execution_count": 194
    }
   ],
   "metadata": {}
  },
  {
   "cell_type": "code",
   "execution_count": 195,
   "source": [
    "zero = basis(2) \r\n",
    "c = create(2)\r\n",
    "one=c*zero\r\n",
    "psi=tensor(tensor(one,basis(2)),basis(2))\r\n",
    "psi0=psi*psi.dag()\r\n",
    "print(\"trace: {}\".format(psi0.tr())) \r\n",
    "psi0"
   ],
   "outputs": [
    {
     "output_type": "stream",
     "name": "stdout",
     "text": [
      "trace: 1.0\n"
     ]
    },
    {
     "output_type": "execute_result",
     "data": {
      "text/plain": [
       "Quantum object: dims = [[2, 2, 2], [2, 2, 2]], shape = (8, 8), type = oper, isherm = True\n",
       "Qobj data =\n",
       "[[0. 0. 0. 0. 0. 0. 0. 0.]\n",
       " [0. 0. 0. 0. 0. 0. 0. 0.]\n",
       " [0. 0. 0. 0. 0. 0. 0. 0.]\n",
       " [0. 0. 0. 0. 0. 0. 0. 0.]\n",
       " [0. 0. 0. 0. 1. 0. 0. 0.]\n",
       " [0. 0. 0. 0. 0. 0. 0. 0.]\n",
       " [0. 0. 0. 0. 0. 0. 0. 0.]\n",
       " [0. 0. 0. 0. 0. 0. 0. 0.]]"
      ],
      "text/latex": [
       "Quantum object: dims = [[2, 2, 2], [2, 2, 2]], shape = (8, 8), type = oper, isherm = True\\begin{equation*}\\left(\\begin{array}{*{11}c}0.0 & 0.0 & 0.0 & 0.0 & 0.0 & 0.0 & 0.0 & 0.0\\\\0.0 & 0.0 & 0.0 & 0.0 & 0.0 & 0.0 & 0.0 & 0.0\\\\0.0 & 0.0 & 0.0 & 0.0 & 0.0 & 0.0 & 0.0 & 0.0\\\\0.0 & 0.0 & 0.0 & 0.0 & 0.0 & 0.0 & 0.0 & 0.0\\\\0.0 & 0.0 & 0.0 & 0.0 & 1.0 & 0.0 & 0.0 & 0.0\\\\0.0 & 0.0 & 0.0 & 0.0 & 0.0 & 0.0 & 0.0 & 0.0\\\\0.0 & 0.0 & 0.0 & 0.0 & 0.0 & 0.0 & 0.0 & 0.0\\\\0.0 & 0.0 & 0.0 & 0.0 & 0.0 & 0.0 & 0.0 & 0.0\\\\\\end{array}\\right)\\end{equation*}"
      ]
     },
     "metadata": {},
     "execution_count": 195
    }
   ],
   "metadata": {}
  },
  {
   "cell_type": "code",
   "execution_count": 196,
   "source": [
    "# psif = UU * psi0\r\n",
    "# result = psif * psif.dag()\r\n",
    "# print(\"trace: {:.1f}\".format(result.tr()))\r\n",
    "# result\r\n",
    "psif = UU * psi0 * UU.dag()\r\n",
    "print(\"trace: {:.2f}\".format(psif.tr()))\r\n",
    "psif"
   ],
   "outputs": [
    {
     "output_type": "stream",
     "name": "stdout",
     "text": [
      "trace: 1.00\n"
     ]
    },
    {
     "output_type": "execute_result",
     "data": {
      "text/plain": [
       "Quantum object: dims = [[2, 2, 2], [2, 2, 2]], shape = (8, 8), type = oper, isherm = True\n",
       "Qobj data =\n",
       "[[ 6.25264068e-01+0.j          0.00000000e+00+0.j\n",
       "   0.00000000e+00+0.j         -2.21525999e-02+0.01504145j\n",
       "  -4.79370063e-01+0.03987665j  0.00000000e+00+0.j\n",
       "   0.00000000e+00+0.j         -1.26439025e-02-0.01142242j]\n",
       " [ 0.00000000e+00+0.j          0.00000000e+00+0.j\n",
       "   0.00000000e+00+0.j          0.00000000e+00+0.j\n",
       "   0.00000000e+00+0.j          0.00000000e+00+0.j\n",
       "   0.00000000e+00+0.j          0.00000000e+00+0.j        ]\n",
       " [ 0.00000000e+00+0.j          0.00000000e+00+0.j\n",
       "   0.00000000e+00+0.j          0.00000000e+00+0.j\n",
       "   0.00000000e+00+0.j          0.00000000e+00+0.j\n",
       "   0.00000000e+00+0.j          0.00000000e+00+0.j        ]\n",
       " [-2.21525999e-02-0.01504145j  0.00000000e+00+0.j\n",
       "   0.00000000e+00+0.j          1.14668826e-03+0.j\n",
       "   1.79429724e-02+0.01011901j  0.00000000e+00+0.j\n",
       "   0.00000000e+00+0.j          1.73183648e-04+0.00070885j]\n",
       " [-4.79370063e-01-0.03987665j  0.00000000e+00+0.j\n",
       "   0.00000000e+00+0.j          1.79429724e-02-0.01011901j\n",
       "   3.70060933e-01+0.j          0.00000000e+00+0.j\n",
       "   0.00000000e+00+0.j          8.96520487e-03+0.00956358j]\n",
       " [ 0.00000000e+00+0.j          0.00000000e+00+0.j\n",
       "   0.00000000e+00+0.j          0.00000000e+00+0.j\n",
       "   0.00000000e+00+0.j          0.00000000e+00+0.j\n",
       "   0.00000000e+00+0.j          0.00000000e+00+0.j        ]\n",
       " [ 0.00000000e+00+0.j          0.00000000e+00+0.j\n",
       "   0.00000000e+00+0.j          0.00000000e+00+0.j\n",
       "   0.00000000e+00+0.j          0.00000000e+00+0.j\n",
       "   0.00000000e+00+0.j          0.00000000e+00+0.j        ]\n",
       " [-1.26439025e-02+0.01142242j  0.00000000e+00+0.j\n",
       "   0.00000000e+00+0.j          1.73183648e-04-0.00070885j\n",
       "   8.96520487e-03-0.00956358j  0.00000000e+00+0.j\n",
       "   0.00000000e+00+0.j          4.64347766e-04+0.j        ]]"
      ],
      "text/latex": [
       "Quantum object: dims = [[2, 2, 2], [2, 2, 2]], shape = (8, 8), type = oper, isherm = True\\begin{equation*}\\left(\\begin{array}{*{11}c}0.625 & 0.0 & 0.0 & (-0.022+0.015j) & (-0.479+0.040j) & 0.0 & 0.0 & (-0.013-0.011j)\\\\0.0 & 0.0 & 0.0 & 0.0 & 0.0 & 0.0 & 0.0 & 0.0\\\\0.0 & 0.0 & 0.0 & 0.0 & 0.0 & 0.0 & 0.0 & 0.0\\\\(-0.022-0.015j) & 0.0 & 0.0 & 0.001 & (0.018+0.010j) & 0.0 & 0.0 & (1.732\\times10^{-04}+7.089\\times10^{-04}j)\\\\(-0.479-0.040j) & 0.0 & 0.0 & (0.018-0.010j) & 0.370 & 0.0 & 0.0 & (0.009+0.010j)\\\\0.0 & 0.0 & 0.0 & 0.0 & 0.0 & 0.0 & 0.0 & 0.0\\\\0.0 & 0.0 & 0.0 & 0.0 & 0.0 & 0.0 & 0.0 & 0.0\\\\(-0.013+0.011j) & 0.0 & 0.0 & (1.732\\times10^{-04}-7.089\\times10^{-04}j) & (0.009-0.010j) & 0.0 & 0.0 & 4.643\\times10^{-04}\\\\\\end{array}\\right)\\end{equation*}"
      ]
     },
     "metadata": {},
     "execution_count": 196
    }
   ],
   "metadata": {}
  }
 ],
 "metadata": {
  "interpreter": {
   "hash": "cdff111d96b596d2391505e9216806e4d620f9afc25805abbca53ca75b034b76"
  },
  "kernelspec": {
   "name": "qdocss",
   "language": "python",
   "display_name": "qdocss"
  },
  "language_info": {
   "codemirror_mode": {
    "name": "ipython",
    "version": 3
   },
   "file_extension": ".py",
   "mimetype": "text/x-python",
   "name": "python",
   "nbconvert_exporter": "python",
   "pygments_lexer": "ipython3",
   "version": "3.9.6"
  },
  "orig_nbformat": 4
 },
 "nbformat": 4,
 "nbformat_minor": 2
}