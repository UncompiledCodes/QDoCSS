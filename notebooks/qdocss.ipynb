{
 "cells": [
  {
   "cell_type": "markdown",
   "source": [
    "# **Imports**\r\n",
    "\r\n",
    "Using `qutip` tools for calculations and using bessel function from `scipy`.\r\n"
   ],
   "metadata": {}
  },
  {
   "cell_type": "code",
   "execution_count": 244,
   "source": [
    "from qutip import *\r\n",
    "from scipy.special import jv"
   ],
   "outputs": [],
   "metadata": {}
  },
  {
   "cell_type": "markdown",
   "source": [
    "# **Constants**\r\n",
    "\r\n",
    "* `si`: unitary matrix\r\n",
    "* `sx`, sy, sz: pauli matrix\r\n",
    "* `n`: number of neclei\r\n",
    "* `m`: number of electrons\r\n",
    "* `extmagfield_m`, `extmagfield_n`: external magnetic fields\r\n",
    "* `JJ`, `AA`, `gama`: exchange interaction constants\r\n",
    "* `E1`: rescale factor\r\n",
    "* `t`: time\r\n",
    "* `kappa`: upper limit of chebyshev's expansion"
   ],
   "metadata": {}
  },
  {
   "cell_type": "code",
   "execution_count": 245,
   "source": [
    "si = qeye(2)\r\n",
    "\r\n",
    "sx = sigmax()\r\n",
    "\r\n",
    "sy = sigmay()\r\n",
    "\r\n",
    "sz = sigmaz()\r\n",
    "\r\n",
    "n = 1\r\n",
    "\r\n",
    "m = 1\r\n",
    "\r\n",
    "extmagfield_m = Qobj([[0, 0, 0],[0, 0, 0],[1, 1, 1]])\r\n",
    "\r\n",
    "extmagfield_n = Qobj([[0, 0, 0],[0, 0, 0],[0.3, 0.3, 0.3]])\r\n",
    "\r\n",
    "JJ = Qobj([[0, 0, 0], [0, 0, 0], [0, 0, 0]])\r\n",
    "\r\n",
    "AA = Qobj([[0, 0, 0] ,[0, 0, 0], [0.99925, 0.625147, 0.551273]])\r\n",
    "gama = Qobj([[0.0124425, 0.0806628, 0.00999575],[0.0550028, 0.0758354, 0.07346340],[0.0972069, 0.0723954, 0.07405450]])\r\n",
    "E1 = (\r\n",
    "    1 / 2 * sum(sum(sum(JJ)))\r\n",
    "    + 1 / 2 * sum(sum(sum(gama)))\r\n",
    "    + 1 / 2 * sum(sum(sum(AA)))\r\n",
    "    + sum(sum(sum(extmagfield_m)))\r\n",
    "    + sum(sum(sum(extmagfield_n)))\r\n",
    ")\r\n",
    "t = 4\r\n",
    "tau = E1 * t / 2\r\n",
    "kappa = 20"
   ],
   "outputs": [],
   "metadata": {}
  },
  {
   "cell_type": "markdown",
   "source": [
    "# **Spin Operators**\r\n",
    "\r\n",
    "the function for calculating spin operators.\r\n"
   ],
   "metadata": {}
  },
  {
   "cell_type": "code",
   "execution_count": 246,
   "source": [
    "def spin_op(N):\r\n",
    "    Sx = []\r\n",
    "    Sy = []\r\n",
    "    Sz = []\r\n",
    "\r\n",
    "    for n in range(N):\r\n",
    "        x_list = []\r\n",
    "        y_list = []\r\n",
    "        z_list = []\r\n",
    "\r\n",
    "        for m in range(N):\r\n",
    "            x_list.append(si)\r\n",
    "            y_list.append(si)\r\n",
    "            z_list.append(si)\r\n",
    "\r\n",
    "        x_list[n] = sx\r\n",
    "        y_list[n] = sy\r\n",
    "        z_list[n] = sz\r\n",
    "\r\n",
    "        Sx.append(tensor(x_list))\r\n",
    "        Sy.append(tensor(y_list))\r\n",
    "        Sz.append(tensor(z_list))\r\n",
    "\r\n",
    "    return [Sx, Sy, Sz]"
   ],
   "outputs": [],
   "metadata": {}
  },
  {
   "cell_type": "markdown",
   "source": [
    "# **Hamiltonian**\r\n",
    "\r\n",
    "HS & HB are bare hamiltonians of the central system and bath.\r\n",
    "\r\n",
    "V is the system-bath interaction."
   ],
   "metadata": {}
  },
  {
   "cell_type": "code",
   "execution_count": 247,
   "source": [
    "Sx, Sy, Sz = spin_op(m+n)\r\n",
    "HS = HB = V = 0\r\n",
    "for i in range(m):\r\n",
    "    HS += extmagfield_m[0,i] * Sx[i] + extmagfield_m[1,i] * Sy[i] + extmagfield_m[2,i] * Sz[i]\r\n",
    "    for j in range(m):\r\n",
    "        HS += JJ[0,j] * Sx[i] * Sx[j] + JJ[1,j] * Sy[i] * Sy[j] + JJ[2,j] * Sz[i] * Sz[j]\r\n",
    "\r\n",
    "for i in range(m,m+n):\r\n",
    "    HB += extmagfield_n[0,i] * Sx[i] + extmagfield_n[1,i] * Sy[i] + extmagfield_n[2,i] * Sz[i]\r\n",
    "    for j in range(m,m+n):\r\n",
    "        HB += gama[0,j] * Sx[i] * Sx[j] + gama[1,j] * Sy[i] * Sy[j] + gama[2,j] * Sz[i] * Sz[j]\r\n",
    "for i in range(m,m+n):\r\n",
    "    for j in range(m):\r\n",
    "        V += AA[0,j] * Sx[i] * Sx[j] + AA[1,j] * Sy[i] * Sy[j] + AA[2,j] * Sz[i] * Sz[j]\r\n",
    "HH = HS + HB + V\r\n"
   ],
   "outputs": [],
   "metadata": {}
  },
  {
   "cell_type": "code",
   "execution_count": 248,
   "source": [
    "HH"
   ],
   "outputs": [
    {
     "output_type": "execute_result",
     "data": {
      "text/plain": [
       "Quantum object: dims = [[2, 2], [2, 2]], shape = (4, 4), type = oper, isherm = True\n",
       "Qobj data =\n",
       "[[ 2.5281436  0.         0.         0.       ]\n",
       " [ 0.        -0.0703564  0.         0.       ]\n",
       " [ 0.         0.        -1.4703564  0.       ]\n",
       " [ 0.         0.         0.        -0.0718564]]"
      ],
      "text/latex": [
       "Quantum object: dims = [[2, 2], [2, 2]], shape = (4, 4), type = oper, isherm = True\\begin{equation*}\\left(\\begin{array}{*{11}c}2.528 & 0.0 & 0.0 & 0.0\\\\0.0 & -0.070 & 0.0 & 0.0\\\\0.0 & 0.0 & -1.470 & 0.0\\\\0.0 & 0.0 & 0.0 & -0.072\\\\\\end{array}\\right)\\end{equation*}"
      ]
     },
     "metadata": {},
     "execution_count": 248
    }
   ],
   "metadata": {}
  },
  {
   "cell_type": "markdown",
   "source": [
    "# **TG**\r\n",
    "\r\n",
    "the function that determines the successive terms in the chebyshev series."
   ],
   "metadata": {}
  },
  {
   "cell_type": "code",
   "execution_count": 249,
   "source": [
    "def TG(k, G):\r\n",
    "    if k == 0:\r\n",
    "        return 1\r\n",
    "    elif k == 1:\r\n",
    "        return G\r\n",
    "    else:\r\n",
    "        return 2 * G * TG(k-1, G) - TG(k-2, G)"
   ],
   "outputs": [],
   "metadata": {}
  },
  {
   "cell_type": "markdown",
   "source": [
    "# **Evolution Operator**\r\n",
    "\r\n",
    "* `G`: is the rescaled hamiltonian\r\n",
    "* `jv`: bessel function"
   ],
   "metadata": {}
  },
  {
   "cell_type": "code",
   "execution_count": 250,
   "source": [
    "G = 2 * HH / E1\r\n",
    "UU = 0\r\n",
    "for k in range(int(kappa) + 1):\r\n",
    "    a = 2\r\n",
    "    if k == 0:\r\n",
    "        a = 1\r\n",
    "    UU += a * ((-1j) ** k) * jv(k,tau) * TG(k, G)\r\n",
    "\r\n"
   ],
   "outputs": [],
   "metadata": {}
  },
  {
   "cell_type": "code",
   "execution_count": 251,
   "source": [
    "UU"
   ],
   "outputs": [
    {
     "output_type": "execute_result",
     "data": {
      "text/plain": [
       "Quantum object: dims = [[2, 2], [2, 2]], shape = (4, 4), type = oper, isherm = False\n",
       "Qobj data =\n",
       "[[-0.77264318+0.63484925j  0.        +0.j          0.        +0.j\n",
       "   0.        +0.j        ]\n",
       " [ 0.        +0.j          0.96065714+0.2777169j   0.        +0.j\n",
       "   0.        +0.j        ]\n",
       " [ 0.        +0.j          0.        +0.j          0.92037095-0.39103763j\n",
       "   0.        +0.j        ]\n",
       " [ 0.        +0.j          0.        +0.j          0.        +0.j\n",
       "   0.95897354+0.28347567j]]"
      ],
      "text/latex": [
       "Quantum object: dims = [[2, 2], [2, 2]], shape = (4, 4), type = oper, isherm = False\\begin{equation*}\\left(\\begin{array}{*{11}c}(-0.773+0.635j) & 0.0 & 0.0 & 0.0\\\\0.0 & (0.961+0.278j) & 0.0 & 0.0\\\\0.0 & 0.0 & (0.920-0.391j) & 0.0\\\\0.0 & 0.0 & 0.0 & (0.959+0.283j)\\\\\\end{array}\\right)\\end{equation*}"
      ]
     },
     "metadata": {},
     "execution_count": 251
    }
   ],
   "metadata": {}
  },
  {
   "cell_type": "markdown",
   "source": [
    "# **Test**\r\n",
    "\r\n",
    "creating a final state density matrix using arbitary $\\psi_{0}$\r\n",
    "\r\n",
    "if the trace of the final state density matrix is equal to $1$ , the evolution operator is acceptable.\r\n",
    "\r\n",
    "another test is that the product of $U$ and $U^\\dag$ should be unitary.\r\n"
   ],
   "metadata": {}
  },
  {
   "cell_type": "code",
   "execution_count": 252,
   "source": [
    "zero = basis(2) \r\n",
    "c = create(2)\r\n",
    "one=c*zero\r\n",
    "psi=tensor(tensor(one,basis(2)))\r\n",
    "psi0=psi*psi.dag()\r\n",
    "print(\"trace: {}\".format(psi0.tr())) \r\n",
    "psi0"
   ],
   "outputs": [
    {
     "output_type": "stream",
     "name": "stdout",
     "text": [
      "trace: 1.0\n"
     ]
    },
    {
     "output_type": "execute_result",
     "data": {
      "text/plain": [
       "Quantum object: dims = [[2, 2], [2, 2]], shape = (4, 4), type = oper, isherm = True\n",
       "Qobj data =\n",
       "[[0. 0. 0. 0.]\n",
       " [0. 0. 0. 0.]\n",
       " [0. 0. 1. 0.]\n",
       " [0. 0. 0. 0.]]"
      ],
      "text/latex": [
       "Quantum object: dims = [[2, 2], [2, 2]], shape = (4, 4), type = oper, isherm = True\\begin{equation*}\\left(\\begin{array}{*{11}c}0.0 & 0.0 & 0.0 & 0.0\\\\0.0 & 0.0 & 0.0 & 0.0\\\\0.0 & 0.0 & 1.0 & 0.0\\\\0.0 & 0.0 & 0.0 & 0.0\\\\\\end{array}\\right)\\end{equation*}"
      ]
     },
     "metadata": {},
     "execution_count": 252
    }
   ],
   "metadata": {}
  },
  {
   "cell_type": "code",
   "execution_count": 253,
   "source": [
    "psif = UU * psi0\r\n",
    "result = psif * psif.dag()\r\n",
    "print(\"trace: {:.2f}\".format(result.tr()))\r\n",
    "result"
   ],
   "outputs": [
    {
     "output_type": "stream",
     "name": "stdout",
     "text": [
      "trace: 1.00\n"
     ]
    },
    {
     "output_type": "execute_result",
     "data": {
      "text/plain": [
       "Quantum object: dims = [[2, 2], [2, 2]], shape = (4, 4), type = oper, isherm = True\n",
       "Qobj data =\n",
       "[[0.         0.         0.         0.        ]\n",
       " [0.         0.         0.         0.        ]\n",
       " [0.         0.         0.99999311 0.        ]\n",
       " [0.         0.         0.         0.        ]]"
      ],
      "text/latex": [
       "Quantum object: dims = [[2, 2], [2, 2]], shape = (4, 4), type = oper, isherm = True\\begin{equation*}\\left(\\begin{array}{*{11}c}0.0 & 0.0 & 0.0 & 0.0\\\\0.0 & 0.0 & 0.0 & 0.0\\\\0.0 & 0.0 & 1.000 & 0.0\\\\0.0 & 0.0 & 0.0 & 0.0\\\\\\end{array}\\right)\\end{equation*}"
      ]
     },
     "metadata": {},
     "execution_count": 253
    }
   ],
   "metadata": {}
  },
  {
   "cell_type": "code",
   "execution_count": 254,
   "source": [
    "UU*UU.dag()"
   ],
   "outputs": [
    {
     "output_type": "execute_result",
     "data": {
      "text/plain": [
       "Quantum object: dims = [[2, 2], [2, 2]], shape = (4, 4), type = oper, isherm = True\n",
       "Qobj data =\n",
       "[[1.00001106 0.         0.         0.        ]\n",
       " [0.         0.99998882 0.         0.        ]\n",
       " [0.         0.         0.99999311 0.        ]\n",
       " [0.         0.         0.         0.9999887 ]]"
      ],
      "text/latex": [
       "Quantum object: dims = [[2, 2], [2, 2]], shape = (4, 4), type = oper, isherm = True\\begin{equation*}\\left(\\begin{array}{*{11}c}1.0 & 0.0 & 0.0 & 0.0\\\\0.0 & 1.000 & 0.0 & 0.0\\\\0.0 & 0.0 & 1.000 & 0.0\\\\0.0 & 0.0 & 0.0 & 1.000\\\\\\end{array}\\right)\\end{equation*}"
      ]
     },
     "metadata": {},
     "execution_count": 254
    }
   ],
   "metadata": {}
  }
 ],
 "metadata": {
  "interpreter": {
   "hash": "cdff111d96b596d2391505e9216806e4d620f9afc25805abbca53ca75b034b76"
  },
  "kernelspec": {
   "name": "python3",
   "display_name": "Python 3.9.6 64-bit ('qdocss': virtualenvwrapper)"
  },
  "language_info": {
   "codemirror_mode": {
    "name": "ipython",
    "version": 3
   },
   "file_extension": ".py",
   "mimetype": "text/x-python",
   "name": "python",
   "nbconvert_exporter": "python",
   "pygments_lexer": "ipython3",
   "version": "3.9.6"
  },
  "orig_nbformat": 4
 },
 "nbformat": 4,
 "nbformat_minor": 2
}